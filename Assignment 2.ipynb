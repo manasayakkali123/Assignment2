{
 "cells": [
  {
   "cell_type": "markdown",
   "metadata": {},
   "source": [
    "1.1 Write a Python Program to implement your own myreduce() function which works exactly like\n",
    "Python's built-in function reduce()"
   ]
  },
  {
   "cell_type": "code",
   "execution_count": 1,
   "metadata": {},
   "outputs": [
    {
     "name": "stdout",
     "output_type": "stream",
     "text": [
      "Sum of the list: 113\n"
     ]
    }
   ],
   "source": [
    "def myreduce(fun,Iter):\n",
    "    result=Iter[0]\n",
    "    for item in Iter[1:]:\n",
    "        result=fun(result,item)\n",
    "    return result\n",
    "def sum(x,y):\n",
    "    return x+y\n",
    "print(\"Sum of the list:\",myreduce(sum,[47,11,42,13]))"
   ]
  },
  {
   "cell_type": "markdown",
   "metadata": {},
   "source": [
    "1.2 Write a Python program to implement your own myfilter() function which works exactly like\n",
    "Python's built-in function filter()"
   ]
  },
  {
   "cell_type": "code",
   "execution_count": 2,
   "metadata": {},
   "outputs": [
    {
     "name": "stdout",
     "output_type": "stream",
     "text": [
      "Even numbers: [0, 2, 4, 6, 8, 10, 12, 14, 16, 18]\n"
     ]
    }
   ],
   "source": [
    "def myfilter(fun,Iter):\n",
    "    result=[]\n",
    "    for item in Iter:\n",
    "        if fun(item):\n",
    "            result.append(item)\n",
    "    return result\n",
    "def isEven(x):\n",
    "    if x%2==0:\n",
    "        return True\n",
    "print(\"Even numbers:\",myfilter(isEven,list(range(20))))"
   ]
  },
  {
   "cell_type": "markdown",
   "metadata": {},
   "source": [
    "2 Implement List comprehensions to produce the following lists.\n",
    "Write List comprehensions to produce the following Lists\n",
    "['A', 'C', 'A', 'D', 'G', 'I', ’L’, ‘ D’]"
   ]
  },
  {
   "cell_type": "markdown",
   "metadata": {},
   "source": [
    "['x', 'xx', 'xxx', 'xxxx', 'y', 'yy', 'yyy', 'yyyy', 'z', 'zz', 'zzz', 'zzzz']"
   ]
  },
  {
   "cell_type": "markdown",
   "metadata": {},
   "source": [
    "['x', 'y', 'z', 'xx', 'yy', 'zz', 'xx', 'yy', 'zz', 'xxxx', 'yyyy', 'zzzz']"
   ]
  },
  {
   "cell_type": "markdown",
   "metadata": {},
   "source": [
    "[[2], [3], [4], [3], [4], [5], [4], [5], [6]]"
   ]
  },
  {
   "cell_type": "markdown",
   "metadata": {},
   "source": [
    "[[2, 3, 4, 5], [3, 4, 5, 6], [4, 5, 6, 7], [5, 6, 7, 8]]"
   ]
  },
  {
   "cell_type": "markdown",
   "metadata": {},
   "source": [
    "[(1, 1), (2, 1), (3, 1), (1, 2), (2, 2), (3, 2), (1, 3), (2, 3), (3, 3)]"
   ]
  },
  {
   "cell_type": "code",
   "execution_count": 3,
   "metadata": {},
   "outputs": [
    {
     "name": "stdout",
     "output_type": "stream",
     "text": [
      "['A', 'C', 'A', 'D', 'G', 'I', 'L', 'D']\n"
     ]
    }
   ],
   "source": [
    "word = \"ACADGILD\"\n",
    "alphabet_list = [ alphabet for alphabet in word ]\n",
    "print(alphabet_list)"
   ]
  },
  {
   "cell_type": "code",
   "execution_count": 4,
   "metadata": {},
   "outputs": [
    {
     "name": "stdout",
     "output_type": "stream",
     "text": [
      "['x', 'xx', 'xxx', 'xxxx', 'y', 'yy', 'yyy', 'yyyy', 'z', 'zz', 'zzz', 'zzzz']\n"
     ]
    }
   ],
   "source": [
    "lst=['x','y','z']\n",
    "result=[item*num for item in lst for num in range(1,5)]\n",
    "print(result)"
   ]
  },
  {
   "cell_type": "code",
   "execution_count": 5,
   "metadata": {},
   "outputs": [
    {
     "name": "stdout",
     "output_type": "stream",
     "text": [
      "['x', 'y', 'z', 'xx', 'yy', 'zz', 'xxx', 'yyy', 'zzz', 'xxxx', 'yyyy', 'zzzz']\n"
     ]
    }
   ],
   "source": [
    "lst=['x','y','z']\n",
    "result=[item*num for num in range(1,5) for item in lst]\n",
    "print(result)"
   ]
  },
  {
   "cell_type": "code",
   "execution_count": 6,
   "metadata": {},
   "outputs": [
    {
     "name": "stdout",
     "output_type": "stream",
     "text": [
      "[[2], [3], [4], [3], [4], [5], [4], [5], [6]]\n"
     ]
    }
   ],
   "source": [
    "lst=[2,3,4]\n",
    "result=[[item+num] for item in lst for num in range(0,3)]\n",
    "print(result)"
   ]
  },
  {
   "cell_type": "code",
   "execution_count": 7,
   "metadata": {},
   "outputs": [
    {
     "name": "stdout",
     "output_type": "stream",
     "text": [
      "[[2, 3, 4, 5], [3, 4, 5, 6], [4, 5, 6, 7], [5, 6, 7, 8]]\n"
     ]
    }
   ],
   "source": [
    "lst=[2,3,4,5]\n",
    "result=[[item+num for item in lst] for num in range(0,4)]\n",
    "print(result)"
   ]
  },
  {
   "cell_type": "code",
   "execution_count": 8,
   "metadata": {},
   "outputs": [
    {
     "name": "stdout",
     "output_type": "stream",
     "text": [
      "[(1, 1), (1, 2), (1, 3), (2, 1), (2, 2), (2, 3), (3, 1), (3, 2), (3, 3)]\n"
     ]
    }
   ],
   "source": [
    "lst=[1,2,3]\n",
    "result=[(i,j) for i in lst for j in lst]\n",
    "print(result)"
   ]
  },
  {
   "cell_type": "markdown",
   "metadata": {},
   "source": [
    "3 Implement a function longestWord() that takes a list of words and returns the longest one."
   ]
  },
  {
   "cell_type": "code",
   "execution_count": 9,
   "metadata": {},
   "outputs": [
    {
     "name": "stdout",
     "output_type": "stream",
     "text": [
      "Enter list of words:ab,cd,hhh,kkkl,ff,jjj\n",
      "kkkl\n"
     ]
    }
   ],
   "source": [
    "from functools import reduce\n",
    "def longestWord(lst):\n",
    "    print(reduce(max_find,lst))\n",
    "max_find=lambda a,b:a if(len(a)>len(b)) else b\n",
    "str=input('Enter list of words:')\n",
    "lst=str.split(',')\n",
    "longestWord(lst)"
   ]
  },
  {
   "cell_type": "markdown",
   "metadata": {},
   "source": [
    "Task 2\n",
    "1.1 Write a Python Program(with class concepts) to find the area of the triangle.\n",
    "Function to take the length of the sides of triangle from user should be defined in the parent\n",
    "class and function to calculate the area should be defined in subclass."
   ]
  },
  {
   "cell_type": "code",
   "execution_count": 10,
   "metadata": {},
   "outputs": [
    {
     "name": "stdout",
     "output_type": "stream",
     "text": [
      "Enter side1 of the triangle:3\n",
      "Enter side2 of the triangle:4\n",
      "Enter side3 of the triangle:5\n",
      "Area of the Triangle: 6.0\n"
     ]
    }
   ],
   "source": [
    "import math\n",
    "class Shape:\n",
    "    def take_input(self):\n",
    "        a=int(input('Enter side1 of the triangle:'))\n",
    "        b=int(input('Enter side2 of the triangle:'))\n",
    "        c=int(input('Enter side3 of the triangle:'))\n",
    "        p=((a+b+c)/2)\n",
    "        return a,b,c,p\n",
    "class Triangle(Shape):\n",
    "    def area(self):\n",
    "        a,b,c,p=super().take_input()\n",
    "        area=math.sqrt((p*(p-a)*(p-b)*(p-c)))\n",
    "        print('Area of the Triangle:',area)\n",
    "t=Triangle()\n",
    "t.area()\n",
    "        "
   ]
  },
  {
   "cell_type": "markdown",
   "metadata": {},
   "source": [
    "1.2 Write a function filter_long_words() that takes a list of words and an integer n and returns the list\n",
    "of words that are longer than n."
   ]
  },
  {
   "cell_type": "code",
   "execution_count": 11,
   "metadata": {},
   "outputs": [
    {
     "name": "stdout",
     "output_type": "stream",
     "text": [
      "Enter list of words:ab,bg,kkkk,hhhh,ttt,uuuu,lll\n",
      "Enter n value:3\n"
     ]
    },
    {
     "data": {
      "text/plain": [
       "['kkkk', 'hhhh', 'uuuu']"
      ]
     },
     "execution_count": 11,
     "metadata": {},
     "output_type": "execute_result"
    }
   ],
   "source": [
    "def filter_long_words(lst,n):\n",
    "    lst1=[]\n",
    "    for item in lst:\n",
    "        if len(item)>n:\n",
    "            lst1.append(item)\n",
    "    return lst1\n",
    "str=input('Enter list of words:')\n",
    "lst=str.split(',')\n",
    "n=int(input('Enter n value:'))\n",
    "filter_long_words(lst,n)"
   ]
  },
  {
   "cell_type": "markdown",
   "metadata": {},
   "source": [
    "2.1 Write a Python program using function concept that maps list of words into a list of integers\n",
    "representing the lengths of the corresponding words .\n",
    "Hint: If a list [ ab,cde,erty] is passed on to the python function output should come as [2,3,4]\n",
    "Here 2,3 and 4 are the lengths of the words in the list."
   ]
  },
  {
   "cell_type": "code",
   "execution_count": 1,
   "metadata": {},
   "outputs": [
    {
     "name": "stdout",
     "output_type": "stream",
     "text": [
      "Enter list of words:ab,cd,hhh,lllgggg\n",
      "[2, 2, 3, 7]\n"
     ]
    }
   ],
   "source": [
    "def count(s):\n",
    "    return len(s)\n",
    "def map_word_count(lst):\n",
    "    lst1=list(map(count,lst))\n",
    "    print(lst1)\n",
    "str=input('Enter list of words:')\n",
    "lst=str.split(',')\n",
    "map_word_count(lst)"
   ]
  },
  {
   "cell_type": "markdown",
   "metadata": {},
   "source": [
    "2.2 Write a Python function which takes a character (i.e. a string of length 1) and returns True if it is\n",
    "a vowel, False otherwise."
   ]
  },
  {
   "cell_type": "code",
   "execution_count": 2,
   "metadata": {},
   "outputs": [
    {
     "name": "stdout",
     "output_type": "stream",
     "text": [
      "Enter character(string of length 1):a\n",
      "True\n"
     ]
    }
   ],
   "source": [
    "def vowel_check(s):\n",
    "    if len(s)!=1:\n",
    "        return \"This function is applicable for string of length 1\"\n",
    "    elif s=='a' or s=='e' or s=='i' or s=='o' or s=='u':\n",
    "        return True\n",
    "    else:\n",
    "        return False\n",
    "str=input('Enter character(string of length 1):')\n",
    "print(vowel_check(str))"
   ]
  },
  {
   "cell_type": "code",
   "execution_count": null,
   "metadata": {},
   "outputs": [],
   "source": []
  }
 ],
 "metadata": {
  "kernelspec": {
   "display_name": "Python 3",
   "language": "python",
   "name": "python3"
  },
  "language_info": {
   "codemirror_mode": {
    "name": "ipython",
    "version": 3
   },
   "file_extension": ".py",
   "mimetype": "text/x-python",
   "name": "python",
   "nbconvert_exporter": "python",
   "pygments_lexer": "ipython3",
   "version": "3.7.4"
  }
 },
 "nbformat": 4,
 "nbformat_minor": 2
}
